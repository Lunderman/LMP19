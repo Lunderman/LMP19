{
 "cells": [
  {
   "cell_type": "code",
   "execution_count": 4,
   "metadata": {},
   "outputs": [],
   "source": [
    "import sys\n",
    "sys.path.insert(0, '/Users/lunderman/Documents/GitHub/LMP19')\n",
    "import LMP19\n",
    "import numpy as np\n",
    "import matplotlib.pyplot as plt\n",
    "from mpl_toolkits import mplot3d\n",
    "\n",
    "from sklearn.gaussian_process import GaussianProcessRegressor as GPR\n",
    "from sklearn.gaussian_process.kernels import RBF,WhiteKernel"
   ]
  },
  {
   "cell_type": "code",
   "execution_count": 5,
   "metadata": {
    "collapsed": true
   },
   "outputs": [],
   "source": [
    "gamma = [5]\n",
    "func = LMP19.Models.FuQu(gamma).eval "
   ]
  },
  {
   "cell_type": "code",
   "execution_count": 6,
   "metadata": {},
   "outputs": [
    {
     "data": {
      "image/png": "[encoded data removed]",
      "text/plain": [
       "<matplotlib.figure.Figure at 0x128206518>"
      ]
     },
     "metadata": {},
     "output_type": "display_data"
    }
   ],
   "source": [
    "lb , ub = -10,10\n",
    "bounds = [[lb,ub]]\n",
    "dt = 0.1\n",
    "\n",
    "xx = np.arange(lb,ub,dt)\n",
    "xx = xx.reshape((len(xx),1))\n",
    "yy= func(xx)\n",
    "\n",
    "nPts = 5\n",
    "X = np.array([-9,-7,-6.5,6,8])\n",
    "X = X.reshape((nPts,1))\n",
    "y = func(X)\n",
    "plt.plot(xx,yy)\n",
    "plt.plot(X,y,'o')\n",
    "plt.show()"
   ]
  },
  {
   "cell_type": "code",
   "execution_count": null,
   "metadata": {
    "collapsed": true
   },
   "outputs": [],
   "source": [
    "# Define GP\n",
    "GP = GPR(kernel = 1.0**2*RBF(np.var(X))+1.0**2*WhiteKernel(np.std(y)),normalize_y=True,n_restarts_optimizer=50).fit(X,y)\n",
    "\n",
    "# View GP\n",
    "Y_hat,sigma = GP.predict(xx,return_std=True)\n",
    "plt.fill_between(np.ravel(xx),np.ravel(Y_hat)-2*sigma,np.ravel(Y_hat)+2*sigma,alpha=0.2)\n",
    "plt.plot(xx,np.ravel(Y_hat))\n",
    "plt.plot(X,y,'o')\n",
    "plt.show()"
   ]
  },
  {
   "cell_type": "code",
   "execution_count": null,
   "metadata": {
    "collapsed": true
   },
   "outputs": [],
   "source": [
    "# Initialize the GBO Object\n",
    "GBO = LMP19.Estimation.GBO(func,1,X,y,bounds)"
   ]
  },
  {
   "cell_type": "code",
   "execution_count": null,
   "metadata": {
    "collapsed": true,
    "scrolled": false
   },
   "outputs": [],
   "source": [
    "# Run GBO for set number of iterations\n",
    "nSteps = 20\n",
    "ii = np.argmax(GBO.y)\n",
    "s=7\n",
    "for kk in range(nSteps):\n",
    "    GBO.GP = GP\n",
    "    GBO.Expected_Improvement()\n",
    "    print('=============================================')\n",
    "    print('=============================================')\n",
    "    print('Step ',kk)\n",
    "    EI_yy = []\n",
    "    for val in xx:\n",
    "        EI_yy.append(-GBO.EI(val))\n",
    "    plt.plot(xx,EI_yy)\n",
    "    plt.plot(GBO.X[-1,:],-GBO.EI(GBO.X[-1,:]),'o',color='C2',label='Selected Maximizer')\n",
    "    plt.legend(loc='center left', bbox_to_anchor=(1, 0.5))\n",
    "    plt.title('Expected Improvement')\n",
    "    plt.show()\n",
    "    \n",
    "    Y_hat,sigma = GBO.GP.predict(xx,return_std=True)\n",
    "    plt.fill_between(np.ravel(xx),np.ravel(Y_hat)-2*sigma,np.ravel(Y_hat)+2*sigma,alpha=0.2)\n",
    "    plt.plot(xx,np.ravel(Y_hat))\n",
    "    plt.plot(GBO.X[:-1,:],GBO.y[:-1,:],'o',color='C1',label='Observations')\n",
    "    plt.plot(GBO.X[-1,:],GBO.y[-1,:],'o',color='C2',label='EI Maximizer')\n",
    "    \n",
    "    tmp = np.argmax(GBO.y)\n",
    "    if tmp == ii:\n",
    "        s += 2\n",
    "    else:\n",
    "        ii = tmp\n",
    "        s = 7\n",
    "    \n",
    "    plt.plot(GBO.X[ii,:],GBO.y[ii,0],'o',markersize=s,color='C3',label='Maximizer')\n",
    "    plt.title('Gaussian Process')\n",
    "    plt.legend(loc='center left', bbox_to_anchor=(1, 0.5))\n",
    "    plt.show()"
   ]
  },
  {
   "cell_type": "code",
   "execution_count": null,
   "metadata": {
    "collapsed": true
   },
   "outputs": [],
   "source": [
    "plt.plot(np.arange(nSteps),[np.max(GBO.y[:nPts+kk,0]) for kk in range(nSteps)])\n",
    "plt.ylabel('Max y value')\n",
    "plt.xlabel('Iteration')\n",
    "plt.show()"
   ]
  },
  {
   "cell_type": "code",
   "execution_count": null,
   "metadata": {
    "collapsed": true
   },
   "outputs": [],
   "source": []
  }
 ],
 "metadata": {
  "kernelspec": {
   "display_name": "Python 3",
   "language": "python",
   "name": "python3"
  },
  "language_info": {
   "codemirror_mode": {
    "name": "ipython",
    "version": 3
   },
   "file_extension": ".py",
   "mimetype": "text/x-python",
   "name": "python",
   "nbconvert_exporter": "python",
   "pygments_lexer": "ipython3",
   "version": "3.6.3"
  }
 },
 "nbformat": 4,
 "nbformat_minor": 2
}
